{
 "cells": [
  {
   "cell_type": "code",
   "execution_count": 1,
   "id": "f75069e9",
   "metadata": {},
   "outputs": [],
   "source": [
    "#oops concepts\n",
    "#classes and objects are the main two aspects of object oriented programming. A class creates a new type where objects are instances of the class "
   ]
  },
  {
   "cell_type": "code",
   "execution_count": 2,
   "id": "a546bce3",
   "metadata": {},
   "outputs": [
    {
     "name": "stdout",
     "output_type": "stream",
     "text": [
      "<__main__.Person object at 0x0000027D17B1EFE0>\n"
     ]
    }
   ],
   "source": [
    "# A minimal example of a class\n",
    "class Person:\n",
    "    pass\n",
    "p = Person()\n",
    "print(p)"
   ]
  },
  {
   "cell_type": "code",
   "execution_count": 3,
   "id": "549089a3",
   "metadata": {},
   "outputs": [
    {
     "name": "stdout",
     "output_type": "stream",
     "text": [
      "Hello, how are you Jatin?\n"
     ]
    }
   ],
   "source": [
    "# Class with a method-> Class methods have only one specific difference from ordinary functions\n",
    "class Person:\n",
    "    def say_hi(self):\n",
    "        self.name = 'Jatin'\n",
    "        print('Hello, how are you '+self.name+\"?\")\n",
    "        \n",
    "p = Person()\n",
    "p.say_hi()"
   ]
  },
  {
   "cell_type": "code",
   "execution_count": 4,
   "id": "3d4a1a68",
   "metadata": {},
   "outputs": [
    {
     "name": "stdout",
     "output_type": "stream",
     "text": [
      "True\n"
     ]
    }
   ],
   "source": [
    "a = 'jatin'\n",
    "print(isinstance(a,object))"
   ]
  },
  {
   "cell_type": "code",
   "execution_count": 5,
   "id": "e1d84e65",
   "metadata": {},
   "outputs": [
    {
     "data": {
      "text/plain": [
       "'0x27d17b1ec20'"
      ]
     },
     "execution_count": 5,
     "metadata": {},
     "output_type": "execute_result"
    }
   ],
   "source": [
    "hex(id(p))"
   ]
  },
  {
   "cell_type": "code",
   "execution_count": 5,
   "id": "2301a32b",
   "metadata": {},
   "outputs": [
    {
     "name": "stdout",
     "output_type": "stream",
     "text": [
      "Hello, my name is Jatin\n",
      "Hello, my name is Jatin\n"
     ]
    }
   ],
   "source": [
    "#the _init_method\n",
    "class Person:\n",
    "    # 1st attribute\n",
    "    name = \"jatin\"\n",
    "    # not a constructor and 2nd attribute\n",
    "    def __init__(self,name):\n",
    "        self.name = name\n",
    "    # 3rd attribute\n",
    "    def say_hi(self):\n",
    "        print('Hello, my name is', self.name)\n",
    "  \n",
    "p = Person('Jatin')\n",
    "p.say_hi()\n",
    "Person.say_hi(p)"
   ]
  },
  {
   "cell_type": "code",
   "execution_count": 14,
   "id": "2019ad9b",
   "metadata": {},
   "outputs": [],
   "source": [
    "#Lifecycle of the object-> a)created, b)deleted, c)string, d)add, e)subtract\n",
    "# Dunder methods are names that are preceded and succeeded by double underscores, hence the name dunder. \n",
    "#They are also called magic methods and can help override functionality for built-in functions for custom classes.\n",
    "class Car:\n",
    "    def __init__(self,model,mileage):\n",
    "        self.model = model\n",
    "        self.mileage = mileage\n",
    "    def __str__(self):\n",
    "        return \"{} {}\".format(self.model,self.mileage)\n",
    "    def __repr__(self):\n",
    "        return \"{}\".format(self.model)\n",
    "    def __eq__(self,other):\n",
    "        return self.model == other.mileage\n",
    "    def __add__(self,other):\n",
    "        return self.model + other.mileage"
   ]
  },
  {
   "cell_type": "code",
   "execution_count": 15,
   "id": "2a28b3e0",
   "metadata": {},
   "outputs": [],
   "source": [
    "c1 = Car('a',2)\n",
    "c2 = Car('b',2)"
   ]
  },
  {
   "cell_type": "code",
   "execution_count": 16,
   "id": "2d6b4e75",
   "metadata": {},
   "outputs": [
    {
     "data": {
      "text/plain": [
       "False"
      ]
     },
     "execution_count": 16,
     "metadata": {},
     "output_type": "execute_result"
    }
   ],
   "source": [
    "c1 == c2"
   ]
  },
  {
   "cell_type": "code",
   "execution_count": 19,
   "id": "c6a2f862",
   "metadata": {},
   "outputs": [],
   "source": [
    "class ostream:\n",
    "    def __lshift__(self,other):\n",
    "        print(other, end = '')\n",
    "        return self\n",
    "cout = ostream()"
   ]
  },
  {
   "cell_type": "code",
   "execution_count": 21,
   "id": "61f7c0b2",
   "metadata": {},
   "outputs": [
    {
     "name": "stdout",
     "output_type": "stream",
     "text": [
      "AdityaTomar"
     ]
    },
    {
     "data": {
      "text/plain": [
       "<__main__.ostream at 0x221c500d5d0>"
      ]
     },
     "execution_count": 21,
     "metadata": {},
     "output_type": "execute_result"
    }
   ],
   "source": [
    "cout<< \"Aditya\"<< \"Tomar\""
   ]
  },
  {
   "cell_type": "code",
   "execution_count": 23,
   "id": "a824e29f",
   "metadata": {},
   "outputs": [],
   "source": [
    "class Dog:\n",
    "    tricks = []\n",
    "    # class variables shared by all instances\n",
    "    def __init__(self,name):\n",
    "        self.name = name\n",
    "    def add_trick(self,trick):\n",
    "        self.tricks.append(trick)"
   ]
  },
  {
   "cell_type": "code",
   "execution_count": 24,
   "id": "14922596",
   "metadata": {},
   "outputs": [],
   "source": [
    "a = Dog('maxx')"
   ]
  },
  {
   "cell_type": "code",
   "execution_count": 27,
   "id": "fc1ffdbd",
   "metadata": {},
   "outputs": [],
   "source": [
    "a.kind = 'something'"
   ]
  },
  {
   "cell_type": "code",
   "execution_count": 28,
   "id": "b9508f39",
   "metadata": {},
   "outputs": [
    {
     "data": {
      "text/plain": [
       "'something'"
      ]
     },
     "execution_count": 28,
     "metadata": {},
     "output_type": "execute_result"
    }
   ],
   "source": [
    "a.kind"
   ]
  },
  {
   "cell_type": "code",
   "execution_count": 29,
   "id": "356d3c00",
   "metadata": {},
   "outputs": [],
   "source": [
    "a.add_trick('fetch')"
   ]
  },
  {
   "cell_type": "code",
   "execution_count": 30,
   "id": "62cf0682",
   "metadata": {},
   "outputs": [],
   "source": [
    "a.add_trick('talk')"
   ]
  },
  {
   "cell_type": "code",
   "execution_count": 31,
   "id": "a069df50",
   "metadata": {},
   "outputs": [
    {
     "data": {
      "text/plain": [
       "['fetch', 'talk']"
      ]
     },
     "execution_count": 31,
     "metadata": {},
     "output_type": "execute_result"
    }
   ],
   "source": [
    "a.tricks"
   ]
  },
  {
   "cell_type": "code",
   "execution_count": 32,
   "id": "be05d15b",
   "metadata": {},
   "outputs": [
    {
     "data": {
      "text/plain": [
       "2344091054464"
      ]
     },
     "execution_count": 32,
     "metadata": {},
     "output_type": "execute_result"
    }
   ],
   "source": [
    "id(a.tricks)"
   ]
  },
  {
   "cell_type": "code",
   "execution_count": 34,
   "id": "7899058d",
   "metadata": {},
   "outputs": [
    {
     "data": {
      "text/plain": [
       "2344091054464"
      ]
     },
     "execution_count": 34,
     "metadata": {},
     "output_type": "execute_result"
    }
   ],
   "source": [
    "id(Dog.tricks)"
   ]
  },
  {
   "cell_type": "code",
   "execution_count": 37,
   "id": "2b142bd6",
   "metadata": {},
   "outputs": [
    {
     "name": "stdout",
     "output_type": "stream",
     "text": [
      "(Initialized Schoolmember: Mr. Ujwal)\n",
      "(Initialized Teacher: Mr. Ujwal)\n",
      "Name:\"Mr. Ujwal\" Age:\"40\" Salary:\"30000\"\n",
      "(Initialized Schoolmember: Nikhil)\n",
      "(Initialized Student: Nikhil)\n",
      "Name:\"Nikhil\" Age:\"25\" Salary:\"75\"\n"
     ]
    }
   ],
   "source": [
    "#Inheritance -> One of the major benefits of OOPS is reuse of code and one of the ways this is achieved is through the inheritance \n",
    "# mechanism \n",
    "class SchoolMember:\n",
    "    '''Represents any school member.'''\n",
    "    def __init__(self,name,age):\n",
    "        self.name = name\n",
    "        self.age = age\n",
    "        print('(Initialized Schoolmember: {})'.format(self.name))\n",
    "    def tell(self):\n",
    "        '''Tell my details.'''\n",
    "        print('Name:\"{}\" Age:\"{}\"'.format(self.name,self.age),end=\" \")\n",
    "\n",
    "class Teacher(SchoolMember):\n",
    "    '''Represents a Teacher'''\n",
    "    def __init__(self,name,age,salary):\n",
    "        # we can use super().__init__(name,age)\n",
    "        SchoolMember.__init__(self,name,age)\n",
    "        self.salary = salary\n",
    "        print('(Initialized Teacher: {})'.format(self.name))\n",
    "    def tell(self):\n",
    "        SchoolMember.tell(self)\n",
    "        print('Salary:\"{:d}\"'.format(self.salary))\n",
    "\n",
    "class Student(SchoolMember):\n",
    "    '''Represents a Student'''\n",
    "    def __init__(self,name,age,marks):\n",
    "        SchoolMember.__init__(self,name,age)\n",
    "        self.marks = marks\n",
    "        print('(Initialized Student: {})'.format(self.name))\n",
    "    def tell(self):\n",
    "        SchoolMember.tell(self)\n",
    "        print('Salary:\"{:d}\"'.format(self.marks))        \n",
    "        \n",
    "t = Teacher('Mr. Ujwal',40,30000)\n",
    "t.tell()\n",
    "s = Student('Nikhil',25,75)\n",
    "s.tell()"
   ]
  },
  {
   "cell_type": "code",
   "execution_count": 39,
   "id": "e6e8fa80",
   "metadata": {},
   "outputs": [],
   "source": [
    "def func():\n",
    "    print('Hello')"
   ]
  },
  {
   "cell_type": "code",
   "execution_count": 40,
   "id": "ff7dee60",
   "metadata": {},
   "outputs": [
    {
     "name": "stdout",
     "output_type": "stream",
     "text": [
      "Hello\n"
     ]
    }
   ],
   "source": [
    "func()"
   ]
  }
 ],
 "metadata": {
  "kernelspec": {
   "display_name": "Python 3 (ipykernel)",
   "language": "python",
   "name": "python3"
  },
  "language_info": {
   "codemirror_mode": {
    "name": "ipython",
    "version": 3
   },
   "file_extension": ".py",
   "mimetype": "text/x-python",
   "name": "python",
   "nbconvert_exporter": "python",
   "pygments_lexer": "ipython3",
   "version": "3.10.4"
  }
 },
 "nbformat": 4,
 "nbformat_minor": 5
}
