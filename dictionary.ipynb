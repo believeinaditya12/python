{
 "cells": [
  {
   "cell_type": "code",
   "execution_count": 1,
   "id": "de6d9bc2",
   "metadata": {},
   "outputs": [],
   "source": [
    "#Dictionary is like an address-book where you can find the address or contact details of a person by knowing only his/her name. Remember that key-value pairs in a dictionary are not ordered in any manner."
   ]
  },
  {
   "cell_type": "code",
   "execution_count": 2,
   "id": "39f509a1",
   "metadata": {},
   "outputs": [],
   "source": [
    "a = [1,2,3,4]"
   ]
  },
  {
   "cell_type": "code",
   "execution_count": 3,
   "id": "0d655fec",
   "metadata": {},
   "outputs": [
    {
     "data": {
      "text/plain": [
       "2"
      ]
     },
     "execution_count": 3,
     "metadata": {},
     "output_type": "execute_result"
    }
   ],
   "source": [
    "a[1]"
   ]
  },
  {
   "cell_type": "code",
   "execution_count": 4,
   "id": "a7cd700b",
   "metadata": {},
   "outputs": [],
   "source": [
    "a = {\n",
    "    \"name\" : \"jatin\",\n",
    "    \"marks\": 90,\n",
    "    \"subjects\": [\"eng\",\"math\"],\n",
    "    \"friends\": {\n",
    "        \"pulkit\": \"android\"\n",
    "    }   \n",
    "}"
   ]
  },
  {
   "cell_type": "code",
   "execution_count": 5,
   "id": "83366670",
   "metadata": {},
   "outputs": [
    {
     "data": {
      "text/plain": [
       "{'pulkit': 'android'}"
      ]
     },
     "execution_count": 5,
     "metadata": {},
     "output_type": "execute_result"
    }
   ],
   "source": [
    "a[\"friends\"]"
   ]
  },
  {
   "cell_type": "code",
   "execution_count": 6,
   "id": "2491a705",
   "metadata": {},
   "outputs": [
    {
     "name": "stdout",
     "output_type": "stream",
     "text": [
      "name\n",
      "marks\n",
      "subjects\n",
      "friends\n"
     ]
    }
   ],
   "source": [
    "for key in a:\n",
    "    print(key)"
   ]
  },
  {
   "cell_type": "code",
   "execution_count": 7,
   "id": "dd45c4df",
   "metadata": {},
   "outputs": [],
   "source": [
    "#some important dict methods a) get(), b) items(), c) keys(), d) values(), e) clear()"
   ]
  },
  {
   "cell_type": "code",
   "execution_count": 8,
   "id": "7e63624e",
   "metadata": {},
   "outputs": [
    {
     "name": "stdout",
     "output_type": "stream",
     "text": [
      "('name', 'jatin')\n",
      "('marks', 90)\n",
      "('subjects', ['eng', 'math'])\n",
      "('friends', {'pulkit': 'android'})\n"
     ]
    }
   ],
   "source": [
    "for item in a.items():\n",
    "    print(item)"
   ]
  },
  {
   "cell_type": "code",
   "execution_count": 9,
   "id": "33abb63d",
   "metadata": {},
   "outputs": [
    {
     "name": "stdout",
     "output_type": "stream",
     "text": [
      "name => jatin\n",
      "marks => 90\n",
      "subjects => ['eng', 'math']\n",
      "friends => {'pulkit': 'android'}\n"
     ]
    }
   ],
   "source": [
    "for key, value in a.items():\n",
    "    print(key, \"=>\", value)"
   ]
  },
  {
   "cell_type": "code",
   "execution_count": 10,
   "id": "34f4382a",
   "metadata": {},
   "outputs": [
    {
     "name": "stdout",
     "output_type": "stream",
     "text": [
      "name\n",
      "marks\n",
      "subjects\n",
      "friends\n"
     ]
    }
   ],
   "source": [
    "for key in a.keys():\n",
    "     print(key)"
   ]
  },
  {
   "cell_type": "code",
   "execution_count": 11,
   "id": "295ec682",
   "metadata": {},
   "outputs": [
    {
     "data": {
      "text/plain": [
       "'jatin'"
      ]
     },
     "execution_count": 11,
     "metadata": {},
     "output_type": "execute_result"
    }
   ],
   "source": [
    "a[\"name\"]"
   ]
  },
  {
   "cell_type": "code",
   "execution_count": 12,
   "id": "17629069",
   "metadata": {},
   "outputs": [],
   "source": [
    "students = []"
   ]
  },
  {
   "cell_type": "code",
   "execution_count": 13,
   "id": "26eac1b5",
   "metadata": {},
   "outputs": [
    {
     "name": "stdout",
     "output_type": "stream",
     "text": [
      "2\n"
     ]
    }
   ],
   "source": [
    "#int(input()) is to take the input and then enter the element to move forward\n",
    "n = int(input())"
   ]
  },
  {
   "cell_type": "code",
   "execution_count": 16,
   "id": "605a39e9",
   "metadata": {},
   "outputs": [
    {
     "name": "stdout",
     "output_type": "stream",
     "text": [
      "1\n",
      "Aditya\n",
      "CSE\n",
      "2\n",
      "Harsh\n",
      "BIO\n"
     ]
    }
   ],
   "source": [
    "for _ in range(n):\n",
    "    roll = int(input())\n",
    "    name = input()\n",
    "    branch = input()\n",
    "    students.append({\n",
    "        \"roll-no\": roll,\n",
    "        \"name\": name,\n",
    "        \"branch\": branch\n",
    "    })"
   ]
  },
  {
   "cell_type": "code",
   "execution_count": 17,
   "id": "713a9d1a",
   "metadata": {},
   "outputs": [
    {
     "data": {
      "text/plain": [
       "[{'roll-no': 1, 'name': 'aditya', 'branch': 'CSE'},\n",
       " {'roll-no': 2, 'name': 'harsh', 'branch': 'BIO'},\n",
       " {'roll-no': 1, 'name': 'Aditya', 'branch': 'CSE'},\n",
       " {'roll-no': 2, 'name': 'Harsh', 'branch': 'BIO'}]"
      ]
     },
     "execution_count": 17,
     "metadata": {},
     "output_type": "execute_result"
    }
   ],
   "source": [
    "students "
   ]
  },
  {
   "cell_type": "code",
   "execution_count": 18,
   "id": "c9498968",
   "metadata": {},
   "outputs": [],
   "source": [
    "#Keys in the dictionary can be ANY immutable DS "
   ]
  },
  {
   "cell_type": "code",
   "execution_count": 19,
   "id": "2f676947",
   "metadata": {},
   "outputs": [],
   "source": [
    "a = {\n",
    "    (1,2): \"jatin\"\n",
    "}"
   ]
  },
  {
   "cell_type": "code",
   "execution_count": 20,
   "id": "f45dc01f",
   "metadata": {},
   "outputs": [
    {
     "data": {
      "text/plain": [
       "'jatin'"
      ]
     },
     "execution_count": 20,
     "metadata": {},
     "output_type": "execute_result"
    }
   ],
   "source": [
    "a[(1,2)]"
   ]
  },
  {
   "cell_type": "code",
   "execution_count": 21,
   "id": "0a0cc1f2",
   "metadata": {},
   "outputs": [
    {
     "ename": "TypeError",
     "evalue": "unhashable type: 'list'",
     "output_type": "error",
     "traceback": [
      "\u001b[1;31m---------------------------------------------------------------------------\u001b[0m",
      "\u001b[1;31mTypeError\u001b[0m                                 Traceback (most recent call last)",
      "Input \u001b[1;32mIn [21]\u001b[0m, in \u001b[0;36m<cell line: 2>\u001b[1;34m()\u001b[0m\n\u001b[1;32m----> 1\u001b[0m a \u001b[38;5;241m=\u001b[39m {\n\u001b[0;32m      2\u001b[0m     [\u001b[38;5;241m1\u001b[39m,\u001b[38;5;241m2\u001b[39m]: \u001b[38;5;124m\"\u001b[39m\u001b[38;5;124mjatin\u001b[39m\u001b[38;5;124m\"\u001b[39m\n\u001b[0;32m      3\u001b[0m }\n",
      "\u001b[1;31mTypeError\u001b[0m: unhashable type: 'list'"
     ]
    }
   ],
   "source": [
    "a = {\n",
    "    [1,2]: \"jatin\"\n",
    "}"
   ]
  },
  {
   "cell_type": "code",
   "execution_count": 22,
   "id": "efbd7236",
   "metadata": {},
   "outputs": [],
   "source": [
    "a = set()"
   ]
  },
  {
   "cell_type": "code",
   "execution_count": 23,
   "id": "32067017",
   "metadata": {},
   "outputs": [],
   "source": [
    "a = {1,2,3,4}"
   ]
  },
  {
   "cell_type": "code",
   "execution_count": 24,
   "id": "d2ae95cf",
   "metadata": {},
   "outputs": [],
   "source": [
    "b = {3,4,5,6}"
   ]
  },
  {
   "cell_type": "code",
   "execution_count": 25,
   "id": "1e4c12bc",
   "metadata": {},
   "outputs": [
    {
     "data": {
      "text/plain": [
       "{3, 4}"
      ]
     },
     "execution_count": 25,
     "metadata": {},
     "output_type": "execute_result"
    }
   ],
   "source": [
    "a.intersection(b)"
   ]
  },
  {
   "cell_type": "code",
   "execution_count": 26,
   "id": "f92ce478",
   "metadata": {},
   "outputs": [
    {
     "data": {
      "text/plain": [
       "{1, 2, 3, 4, 5, 6}"
      ]
     },
     "execution_count": 26,
     "metadata": {},
     "output_type": "execute_result"
    }
   ],
   "source": [
    "a.union(b)"
   ]
  },
  {
   "cell_type": "code",
   "execution_count": 27,
   "id": "98af6e83",
   "metadata": {},
   "outputs": [
    {
     "data": {
      "text/plain": [
       "{1, 2}"
      ]
     },
     "execution_count": 27,
     "metadata": {},
     "output_type": "execute_result"
    }
   ],
   "source": [
    "a-b"
   ]
  },
  {
   "cell_type": "code",
   "execution_count": 28,
   "id": "2dfc55a4",
   "metadata": {},
   "outputs": [],
   "source": [
    "a = [1,2,1,2,1,1,2,2]"
   ]
  },
  {
   "cell_type": "code",
   "execution_count": 29,
   "id": "c800d991",
   "metadata": {},
   "outputs": [
    {
     "data": {
      "text/plain": [
       "[1, 2]"
      ]
     },
     "execution_count": 29,
     "metadata": {},
     "output_type": "execute_result"
    }
   ],
   "source": [
    "list(set(a))"
   ]
  },
  {
   "cell_type": "code",
   "execution_count": 31,
   "id": "30d36b0e",
   "metadata": {},
   "outputs": [],
   "source": [
    "a = []\n",
    "for i in range(10):\n",
    "         a.append(i**2)"
   ]
  },
  {
   "cell_type": "code",
   "execution_count": 32,
   "id": "a7f17f90",
   "metadata": {},
   "outputs": [
    {
     "name": "stdout",
     "output_type": "stream",
     "text": [
      "[0, 1, 4, 9, 16, 25, 36, 49, 64, 81]\n"
     ]
    }
   ],
   "source": [
    "print(a)"
   ]
  },
  {
   "cell_type": "code",
   "execution_count": 33,
   "id": "bf900ba2",
   "metadata": {},
   "outputs": [
    {
     "data": {
      "text/plain": [
       "[0, 1, 4, 9, 16, 25, 36, 49, 64, 81]"
      ]
     },
     "execution_count": 33,
     "metadata": {},
     "output_type": "execute_result"
    }
   ],
   "source": [
    "[i**2 for i in range(10)]"
   ]
  },
  {
   "cell_type": "code",
   "execution_count": 34,
   "id": "fb26264f",
   "metadata": {},
   "outputs": [
    {
     "data": {
      "text/plain": [
       "[0, 4, 16, 36, 64]"
      ]
     },
     "execution_count": 34,
     "metadata": {},
     "output_type": "execute_result"
    }
   ],
   "source": [
    "[i**2 for i in range(10) if i%2 == 0]"
   ]
  },
  {
   "cell_type": "code",
   "execution_count": 35,
   "id": "4bba7877",
   "metadata": {},
   "outputs": [
    {
     "data": {
      "text/plain": [
       "{0: 0, 1: 1, 2: 4, 3: 9, 4: 16, 5: 25, 6: 36, 7: 49, 8: 64, 9: 81}"
      ]
     },
     "execution_count": 35,
     "metadata": {},
     "output_type": "execute_result"
    }
   ],
   "source": [
    "{ i: i**2 for i in range(10)}"
   ]
  },
  {
   "cell_type": "code",
   "execution_count": 36,
   "id": "91844255",
   "metadata": {},
   "outputs": [],
   "source": [
    "a = {i**2 for i in range(10)}"
   ]
  },
  {
   "cell_type": "code",
   "execution_count": 37,
   "id": "f161d02d",
   "metadata": {},
   "outputs": [
    {
     "data": {
      "text/plain": [
       "{0, 1, 4, 9, 16, 25, 36, 49, 64, 81}"
      ]
     },
     "execution_count": 37,
     "metadata": {},
     "output_type": "execute_result"
    }
   ],
   "source": [
    "a"
   ]
  },
  {
   "cell_type": "code",
   "execution_count": null,
   "id": "375dfc3e",
   "metadata": {},
   "outputs": [],
   "source": []
  }
 ],
 "metadata": {
  "kernelspec": {
   "display_name": "Python 3 (ipykernel)",
   "language": "python",
   "name": "python3"
  },
  "language_info": {
   "codemirror_mode": {
    "name": "ipython",
    "version": 3
   },
   "file_extension": ".py",
   "mimetype": "text/x-python",
   "name": "python",
   "nbconvert_exporter": "python",
   "pygments_lexer": "ipython3",
   "version": "3.10.4"
  }
 },
 "nbformat": 4,
 "nbformat_minor": 5
}
