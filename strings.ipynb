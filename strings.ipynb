{
 "cells": [
  {
   "cell_type": "code",
   "execution_count": 1,
   "id": "9ca76db2",
   "metadata": {},
   "outputs": [],
   "source": [
    "#STRINGS\n",
    "#-Formated Strings\n",
    "#-Strip\n",
    "#-Split\n",
    "#-Replace\n",
    "#-Count"
   ]
  },
  {
   "cell_type": "code",
   "execution_count": 8,
   "id": "f0893730",
   "metadata": {},
   "outputs": [],
   "source": [
    "name = \"Aditya\"\n",
    "age = 21\n",
    "year = 3"
   ]
  },
  {
   "cell_type": "code",
   "execution_count": 9,
   "id": "1a64b1d3",
   "metadata": {},
   "outputs": [
    {
     "name": "stdout",
     "output_type": "stream",
     "text": [
      "My name is Aditya. I am 21 years old. I am in 3 year. \n"
     ]
    }
   ],
   "source": [
    "print(\"My name is \"+name + \". I am \" + str(age) + \" years old. I am in \"+ str(year) + \" year. \")"
   ]
  },
  {
   "cell_type": "code",
   "execution_count": 10,
   "id": "21deb36e",
   "metadata": {},
   "outputs": [
    {
     "data": {
      "text/plain": [
       "'hello4'"
      ]
     },
     "execution_count": 10,
     "metadata": {},
     "output_type": "execute_result"
    }
   ],
   "source": [
    "\"hello\" + str(4)"
   ]
  },
  {
   "cell_type": "code",
   "execution_count": 11,
   "id": "e58bd295",
   "metadata": {},
   "outputs": [
    {
     "name": "stdout",
     "output_type": "stream",
     "text": [
      "My name is Aditya. I am 21 years old. I am in 3 year.\n"
     ]
    }
   ],
   "source": [
    "print(\"My name is %s. I am %d years old. I am in %d year.\"%(name, age, year))"
   ]
  },
  {
   "cell_type": "code",
   "execution_count": 12,
   "id": "293132f1",
   "metadata": {},
   "outputs": [
    {
     "name": "stdout",
     "output_type": "stream",
     "text": [
      "My name is Aditya. I am 21 years old. I am in 3 year.\n"
     ]
    }
   ],
   "source": [
    "print(\"My name is {}. I am {} years old. I am in {} year.\".format(name,age,year))"
   ]
  },
  {
   "cell_type": "code",
   "execution_count": 14,
   "id": "6c0def38",
   "metadata": {},
   "outputs": [
    {
     "name": "stdout",
     "output_type": "stream",
     "text": [
      "My name is Aditya. I am 21 years old. I am in 3 year.\n"
     ]
    }
   ],
   "source": [
    "print(f\"My name is {name}. I am {age} years old. I am in {year} year.\")"
   ]
  },
  {
   "cell_type": "code",
   "execution_count": 15,
   "id": "66ee24b9",
   "metadata": {},
   "outputs": [],
   "source": [
    "st = \" Good Morning. \""
   ]
  },
  {
   "cell_type": "code",
   "execution_count": 16,
   "id": "9c77e410",
   "metadata": {},
   "outputs": [
    {
     "data": {
      "text/plain": [
       "'Good Morning. '"
      ]
     },
     "execution_count": 16,
     "metadata": {},
     "output_type": "execute_result"
    }
   ],
   "source": [
    "st.lstrip()"
   ]
  },
  {
   "cell_type": "code",
   "execution_count": 17,
   "id": "6fe4ec62",
   "metadata": {},
   "outputs": [
    {
     "data": {
      "text/plain": [
       "'Good Morning.'"
      ]
     },
     "execution_count": 17,
     "metadata": {},
     "output_type": "execute_result"
    }
   ],
   "source": [
    "st.strip()"
   ]
  },
  {
   "cell_type": "code",
   "execution_count": 18,
   "id": "db952bdc",
   "metadata": {},
   "outputs": [
    {
     "name": "stdout",
     "output_type": "stream",
     "text": [
      "Enter yes or noyes\n"
     ]
    }
   ],
   "source": [
    "response = input(\"Enter yes or no\")"
   ]
  },
  {
   "cell_type": "code",
   "execution_count": 19,
   "id": "6677addc",
   "metadata": {},
   "outputs": [
    {
     "data": {
      "text/plain": [
       "'yes'"
      ]
     },
     "execution_count": 19,
     "metadata": {},
     "output_type": "execute_result"
    }
   ],
   "source": [
    "response.strip()"
   ]
  },
  {
   "cell_type": "code",
   "execution_count": 20,
   "id": "bb60d6c1",
   "metadata": {},
   "outputs": [
    {
     "data": {
      "text/plain": [
       "True"
      ]
     },
     "execution_count": 20,
     "metadata": {},
     "output_type": "execute_result"
    }
   ],
   "source": [
    "response.strip() == \"yes\""
   ]
  },
  {
   "cell_type": "code",
   "execution_count": 21,
   "id": "c384750b",
   "metadata": {},
   "outputs": [],
   "source": [
    "st = \"My name is Mohit\""
   ]
  },
  {
   "cell_type": "code",
   "execution_count": 22,
   "id": "4a302f78",
   "metadata": {},
   "outputs": [
    {
     "data": {
      "text/plain": [
       "'My name is Mohit'"
      ]
     },
     "execution_count": 22,
     "metadata": {},
     "output_type": "execute_result"
    }
   ],
   "source": [
    "st"
   ]
  },
  {
   "cell_type": "code",
   "execution_count": 23,
   "id": "99452349",
   "metadata": {},
   "outputs": [
    {
     "data": {
      "text/plain": [
       "['My', 'name', 'is', 'Mohit']"
      ]
     },
     "execution_count": 23,
     "metadata": {},
     "output_type": "execute_result"
    }
   ],
   "source": [
    "st.split(\" \")"
   ]
  },
  {
   "cell_type": "code",
   "execution_count": 24,
   "id": "cb970f05",
   "metadata": {},
   "outputs": [],
   "source": [
    "st = st.replace(\"Mohit\", \"Jatin\")"
   ]
  },
  {
   "cell_type": "code",
   "execution_count": 25,
   "id": "5a1aac9b",
   "metadata": {},
   "outputs": [
    {
     "data": {
      "text/plain": [
       "'My name is Jatin'"
      ]
     },
     "execution_count": 25,
     "metadata": {},
     "output_type": "execute_result"
    }
   ],
   "source": [
    "st"
   ]
  },
  {
   "cell_type": "code",
   "execution_count": 26,
   "id": "a32fe114",
   "metadata": {},
   "outputs": [],
   "source": [
    "st = \"aaaaazzzz\""
   ]
  },
  {
   "cell_type": "code",
   "execution_count": 27,
   "id": "9f0f8bc2",
   "metadata": {},
   "outputs": [
    {
     "data": {
      "text/plain": [
       "'bbbbbzzzz'"
      ]
     },
     "execution_count": 27,
     "metadata": {},
     "output_type": "execute_result"
    }
   ],
   "source": [
    "st.replace('a','b')"
   ]
  },
  {
   "cell_type": "code",
   "execution_count": 28,
   "id": "fc996db0",
   "metadata": {},
   "outputs": [
    {
     "name": "stdout",
     "output_type": "stream",
     "text": [
      "aaaaazzzz\n"
     ]
    }
   ],
   "source": [
    "print(st)"
   ]
  },
  {
   "cell_type": "code",
   "execution_count": 29,
   "id": "8a233ef2",
   "metadata": {},
   "outputs": [
    {
     "data": {
      "text/plain": [
       "5"
      ]
     },
     "execution_count": 29,
     "metadata": {},
     "output_type": "execute_result"
    }
   ],
   "source": [
    "st.count('a')"
   ]
  },
  {
   "cell_type": "code",
   "execution_count": null,
   "id": "bb01160b",
   "metadata": {},
   "outputs": [],
   "source": []
  }
 ],
 "metadata": {
  "kernelspec": {
   "display_name": "Python 3 (ipykernel)",
   "language": "python",
   "name": "python3"
  },
  "language_info": {
   "codemirror_mode": {
    "name": "ipython",
    "version": 3
   },
   "file_extension": ".py",
   "mimetype": "text/x-python",
   "name": "python",
   "nbconvert_exporter": "python",
   "pygments_lexer": "ipython3",
   "version": "3.10.4"
  }
 },
 "nbformat": 4,
 "nbformat_minor": 5
}
